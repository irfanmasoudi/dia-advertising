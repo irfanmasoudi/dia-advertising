{
 "cells": [
  {
   "cell_type": "code",
   "execution_count": 8,
   "metadata": {},
   "outputs": [],
   "source": [
    "import numpy as np\n",
    "import matplotlib.pyplot as plt\n",
    "from sklearn.gaussian_process import GaussianProcessRegressor\n",
    "from sklearn.gaussian_process.kernels import RBF, ConstantKernel as C"
   ]
  },
  {
   "cell_type": "code",
   "execution_count": 9,
   "metadata": {},
   "outputs": [],
   "source": [
    "def fun(x):\n",
    "    # the real function to estimate\n",
    "    return 100 * (1.0 - np.exp(-4*x+3*x**3))"
   ]
  },
  {
   "cell_type": "code",
   "execution_count": 10,
   "metadata": {},
   "outputs": [],
   "source": [
    "class BiddingEnvironment():\n",
    "    def __init__(self, bids, sigma):\n",
    "        self.bids = bids\n",
    "        self.means = fun(bids)\n",
    "        self.sigmas = np.ones(len(bids)) * sigma\n",
    "    \n",
    "    def round(self, pulled_arm):\n",
    "        reward = np.random.normal(self.means[pulled_arm], self.sigmas[pulled_arm], 1)\n",
    "        return reward"
   ]
  },
  {
   "cell_type": "code",
   "execution_count": 11,
   "metadata": {},
   "outputs": [],
   "source": [
    "class Learner:\n",
    "    def __init__(self, n_arms):\n",
    "        self.n_arms = n_arms\n",
    "        self.t = 0\n",
    "        self.rewards_per_arm = x = [[] for i in range(0, n_arms)]\n",
    "        self.collected_rewards = np.array([])\n",
    "    \n",
    "    def update_observations(self, pulled_arm, reward):\n",
    "        self.rewards_per_arm[pulled_arm].append(reward)\n",
    "        self.collected_rewards = np.append(self.collected_rewards, reward)\n"
   ]
  },
  {
   "cell_type": "code",
   "execution_count": 12,
   "metadata": {},
   "outputs": [],
   "source": [
    "class GTS_Learner(Learner):\n",
    "    def __init__(self, n_arms):\n",
    "        super().__init__(n_arms)\n",
    "        self.means = np.zeros(n_arms)\n",
    "        self.sigmas = np.ones(n_arms) * 1e3\n",
    "\n",
    "        \n",
    "    def pull_arm(self):\n",
    "        idx = np.argmax(np.random.normal(self.means, self.sigmas))\n",
    "        return idx \n",
    "     \n",
    "    def update(self, pulled_arm, reward):\n",
    "        self.t += 1\n",
    "        self.update_observations(pulled_arm, reward)\n",
    "        self.means[pulled_arm] = np.mean(self.rewards_per_arm[pulled_arm])\n",
    "        n_samples = len(self.rewards_per_arm[pulled_arm])\n",
    "        if n_samples > 1:\n",
    "            self.sigmas[pulled_arm] = np.std(self.rewards_per_arm[pulled_arm]) / n_samples"
   ]
  },
  {
   "cell_type": "code",
   "execution_count": 13,
   "metadata": {},
   "outputs": [],
   "source": [
    "class GPTS_Learner(Learner):\n",
    "    def __init__(self, n_arms, arms):\n",
    "        super().__init__(n_arms)\n",
    "        self.arms = arms\n",
    "        self.means = np.zeros(n_arms)\n",
    "        self.sigmas = np.ones(n_arms) * 10\n",
    "        self.pulled_arms = []\n",
    "        alpha = 10.0\n",
    "        kernel = C(1.0, (1e-3, 1e3)) * RBF(1.0, (1e-3, 1e3))\n",
    "        self.gp = GaussianProcessRegressor(kernel=kernel, alpha = alpha**2, normalize_y=True, n_restarts_optimizer=10)\n",
    "\n",
    "    \n",
    "    def update_observations(self, pulled_arm, reward):\n",
    "        super().update_observations(pulled_arm, reward)\n",
    "        self.pulled_arms.append(self.arms[pulled_arm])\n",
    "        \n",
    "    def update_model(self):\n",
    "        x = np.atleast_2d(self.pulled_arms).T\n",
    "        y = self.collected_rewards\n",
    "        self.gp.fit(x,y)\n",
    "        \n",
    "        x_pred = np.atleast_2d(self.arms).T\n",
    "        self.means, self.sigmas = self.gp.predict(x_pred, return_std=True)\n",
    "        self.sigmas = np.maximum(self.sigmas, 1e-2)\n",
    "        \n",
    "    def update(self, pulled_arm, reward):\n",
    "        self.t += 1\n",
    "        self.update_observations(pulled_arm, reward)\n",
    "        self.update_model()\n",
    "        \n",
    "    \n",
    "    def pull_arm(self):\n",
    "        idx = np.argmax(np.random.normal(self.means, self.sigmas))\n",
    "        return idx \n"
   ]
  },
  {
   "cell_type": "code",
   "execution_count": 14,
   "metadata": {},
   "outputs": [],
   "source": [
    "#Stationary Environment\n",
    "\n",
    "n_arms = 20\n",
    "min_bid = 0.0\n",
    "max_bid = 1.0\n",
    "bids = np.linspace(min_bid, max_bid, n_arms)\n",
    "sigma = 10\n",
    "\n",
    "T = 60\n",
    "n_experiment = 10\n",
    "gts_rewards_per_experiment = []\n",
    "gpts_rewards_per_experiment = []\n",
    "\n",
    "\n",
    "for e in range(0, n_experiment):\n",
    "    env = BiddingEnvironment(bids=bids, sigma=sigma)\n",
    "    gts_learner = GTS_Learner(n_arms=n_arms)\n",
    "    gpts_learner = GPTS_Learner(n_arms=n_arms, arms=bids)\n",
    "\n",
    "    for t in range(0, T):   \n",
    "        \n",
    "        #Gaussian Thompson Sampling Learner\n",
    "        pulled_arm = gts_learner.pull_arm()\n",
    "        reward = env.round(pulled_arm)\n",
    "        gts_learner.update(pulled_arm, reward)\n",
    "        \n",
    "        #Gaussian Process Thompson Sampling Learner\n",
    "        pulled_arm = gpts_learner.pull_arm()\n",
    "        reward = env.round(pulled_arm)\n",
    "        gpts_learner.update(pulled_arm, reward)\n",
    "        \n",
    "       \n",
    "        \n",
    "    gts_rewards_per_experiment.append(gts_learner.collected_rewards)\n",
    "    gpts_rewards_per_experiment.append(gpts_learner.collected_rewards)\n",
    "    \n"
   ]
  },
  {
   "cell_type": "code",
   "execution_count": 9,
   "metadata": {},
   "outputs": [
    {
     "data": {
      "image/png": "[encoded data removed]",
      "text/plain": [
       "<Figure size 432x288 with 1 Axes>"
      ]
     },
     "metadata": {
      "needs_background": "light"
     },
     "output_type": "display_data"
    }
   ],
   "source": [
    "opt = np.max(env.means)\n",
    "plt.figure(0)\n",
    "plt.xlabel(\"t\")\n",
    "plt.ylabel(\"Regret\")\n",
    "plt.plot(np.cumsum(np.mean(opt - gts_rewards_per_experiment, axis=0)), 'r')\n",
    "plt.plot(np.cumsum(np.mean(opt - gpts_rewards_per_experiment, axis=0)), 'g')\n",
    "plt.legend([\"GTS\", \"GPTS\"])\n",
    "plt.show()"
   ]
  },
  {
   "cell_type": "code",
   "execution_count": 21,
   "metadata": {},
   "outputs": [
    {
     "data": {
      "image/png": "[encoded data removed]",
      "text/plain": [
       "<Figure size 432x288 with 1 Axes>"
      ]
     },
     "metadata": {
      "needs_background": "light"
     },
     "output_type": "display_data"
    }
   ],
   "source": [
    "x_pred = np.atleast_2d(gpts_learner.arms).T\n",
    "x = np.atleast_2d(gpts_learner.pulled_arms).T\n",
    "y = gpts_learner.collected_rewards\n",
    "plt.plot(x_pred, fun(x_pred), 'r:', label=r'$n(x)$')\n",
    "plt.plot(x.ravel(), y, 'ro', label=u'Observed Clicks')\n",
    "plt.plot(x_pred, gpts_learner.means, 'b-', label=u'Predicted Clicks')\n",
    "plt.fill(np.concatenate([x_pred, x_pred[::-1]]),\n",
    "         np.concatenate([gpts_learner.means - 1.96*gpts_learner.sigmas, (gpts_learner.means + 1.96*gpts_learner.sigmas)[::-1]]),\n",
    "         alpha = .5, fc='b', ec='None', label = '95% conf interval')\n",
    "plt.xlabel('$x$')\n",
    "plt.ylabel('$n(x)$')\n",
    "plt.legend(loc='lower right')\n",
    "plt.show()"
   ]
  },
  {
   "cell_type": "code",
   "execution_count": 15,
   "metadata": {},
   "outputs": [
    {
     "data": {
      "text/plain": [
       "array([10., 10., 10., 10., 10., 10., 10., 10., 10., 10., 10., 10., 10.,\n",
       "       10., 10., 10., 10., 10., 10., 10.])"
      ]
     },
     "execution_count": 15,
     "metadata": {},
     "output_type": "execute_result"
    }
   ],
   "source": [
    "env.sigmas"
   ]
  },
  {
   "cell_type": "code",
   "execution_count": 15,
   "metadata": {},
   "outputs": [
    {
     "data": {
      "text/plain": [
       "83.06715326138243"
      ]
     },
     "execution_count": 15,
     "metadata": {},
     "output_type": "execute_result"
    }
   ],
   "source": [
    "opt = np.max(env.means)\n",
    "opt"
   ]
  },
  {
   "cell_type": "code",
   "execution_count": null,
   "metadata": {},
   "outputs": [],
   "source": [
    "opt = np.max(env.means)\n",
    "plt.figure(0)\n",
    "plt.xlabel(\"t\")\n",
    "plt.ylabel(\"Regret\")\n",
    "plt.plot(gts_rewards_per_experiment, axis=0), 'r')\n",
    "plt.plot(np.cumsum(np.mean(opt - gpts_rewards_per_experiment, axis=0), 'g')\n",
    "plt.legend([\"GTS\", \"GPTS\"])\n",
    "plt.show()"
   ]
  }
 ],
 "metadata": {
  "kernelspec": {
   "display_name": "Python 3",
   "language": "python",
   "name": "python3"
  },
  "language_info": {
   "codemirror_mode": {
    "name": "ipython",
    "version": 3
   },
   "file_extension": ".py",
   "mimetype": "text/x-python",
   "name": "python",
   "nbconvert_exporter": "python",
   "pygments_lexer": "ipython3",
   "version": "3.8.8"
  }
 },
 "nbformat": 4,
 "nbformat_minor": 4
}
